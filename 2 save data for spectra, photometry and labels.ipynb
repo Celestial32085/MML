{
 "cells": [
  {
   "cell_type": "code",
   "execution_count": null,
   "metadata": {},
   "outputs": [],
   "source": [
    "import numpy as np\n",
    "import argparse  \n",
    "import random\n",
    "import os\n",
    "\n",
    "dir = \"dataset/\"\n",
    "# 获取当前目录下所有的文件路径\n",
    "AllPath = []\n",
    "for root, dirs, files in os.walk(dir):\n",
    "    for file in files:\n",
    "        if file != \".DS_Store\":     \n",
    "            AllPath.append(os.path.join(root, file))   \n",
    "\n",
    "i=0\n",
    "name2 = []\n",
    "for path in AllPath:\n",
    "    #print(path)\n",
    "    name2.append(path.split('/')[1].split('.')[0])\n",
    "    i = i+1\n",
    "\n",
    "print(i)"
   ]
  },
  {
   "cell_type": "code",
   "execution_count": null,
   "metadata": {
    "collapsed": true
   },
   "outputs": [],
   "source": [
    "#name2"
   ]
  },
  {
   "cell_type": "code",
   "execution_count": null,
   "metadata": {},
   "outputs": [],
   "source": [
    "#name2.sort()"
   ]
  },
  {
   "cell_type": "code",
   "execution_count": null,
   "metadata": {
    "collapsed": true
   },
   "outputs": [],
   "source": [
    "#name2"
   ]
  },
  {
   "cell_type": "code",
   "execution_count": null,
   "metadata": {},
   "outputs": [],
   "source": [
    "#name2[87450]"
   ]
  },
  {
   "cell_type": "code",
   "execution_count": null,
   "metadata": {},
   "outputs": [],
   "source": [
    "#10:30-14:20\n",
    "# 读取数据和标签\n",
    "print(\"------开始读取数据------\")\n",
    "data=np.zeros((415930,3600))\n",
    "#labels = []\n",
    "redshifts = []\n",
    "dir=\"dataset/\"\n",
    "\n",
    "# 获取当前目录下所有的文件路径\n",
    "AllPath=[]\n",
    "for root,dirs,files in os.walk(dir):\n",
    "    for file in files:\n",
    "        if file != \".DS_Store\":\n",
    "            AllPath.append(os.path.join(root,file))\n",
    "            \n",
    "\n",
    "AllPath=sorted(list(AllPath))\n",
    "random.seed(42)\n",
    "random.shuffle(AllPath)\n",
    "\n",
    "# 读取数据和标签\n",
    "i=0\n",
    "for paths in AllPath:\n",
    "    #print(paths)\n",
    "     #label = paths.split(os.path.sep)[-2] \n",
    "     #print(label)\n",
    "     #labels.append(label)\n",
    "    spec=np.loadtxt(paths,delimiter='\\n',skiprows=23)[:3600]\n",
    "    data[i]=spec\n",
    "    i=i+1\n",
    "    redshift=np.loadtxt(paths,delimiter='\\n',skiprows=5)[:1]\n",
    "    print(redshift)\n",
    "    redshifts.append(redshift)\n",
    "    \n",
    "#print(labels[0])\n",
    "print('end')    \n",
    "print(i)"
   ]
  },
  {
   "cell_type": "code",
   "execution_count": null,
   "metadata": {},
   "outputs": [],
   "source": [
    "len(redshifts)"
   ]
  },
  {
   "cell_type": "code",
   "execution_count": null,
   "metadata": {},
   "outputs": [],
   "source": [
    "data.shape"
   ]
  },
  {
   "cell_type": "code",
   "execution_count": null,
   "metadata": {},
   "outputs": [],
   "source": [
    "#14:20-14:40\n",
    "np.savetxt('redshift.csv',redshifts,delimiter=',',fmt = '%s')\n",
    "np.savetxt('data_spec.csv',data,delimiter=',',fmt = '%s')"
   ]
  },
  {
   "cell_type": "code",
   "execution_count": null,
   "metadata": {},
   "outputs": [],
   "source": [
    "#14:40-18:24\n",
    "# 读取xingdeng\n",
    "print(\"------开始读取数据------\")\n",
    "datamag=np.zeros((415930,15))\n",
    "#labels = []\n",
    "#redshifts = []\n",
    "dir=\"dataset/\"\n",
    "\n",
    "# 获取当前目录下所有的文件路径\n",
    "AllPath=[]\n",
    "for root,dirs,files in os.walk(dir):\n",
    "    for file in files:\n",
    "        if file != \".DS_Store\":\n",
    "            AllPath.append(os.path.join(root,file))\n",
    "            \n",
    "\n",
    "AllPath=sorted(list(AllPath))\n",
    "random.seed(42)\n",
    "random.shuffle(AllPath)\n",
    "\n",
    "# 读取数据和标签\n",
    "i=0\n",
    "for paths in AllPath:\n",
    "    #spec=np.loadtxt(paths,delimiter='\\n',skiprows=20)[:3600]\n",
    "    #data[i]=spec\n",
    "    \n",
    "    redshift2=np.loadtxt(paths,delimiter='\\n',skiprows=5)[:1]\n",
    "    print(redshift2)\n",
    "    #redshifts.append(redshift)\n",
    "    mag=np.loadtxt(paths,delimiter='\\n',skiprows=8)[:15]\n",
    "    datamag[i]=mag\n",
    "    i=i+1\n",
    "    \n",
    "#print(labels[0])\n",
    "print('end')    \n",
    "print(i)"
   ]
  },
  {
   "cell_type": "code",
   "execution_count": null,
   "metadata": {},
   "outputs": [],
   "source": [
    "np.savetxt('data_mag.csv',datamag,delimiter=',',fmt = '%s')"
   ]
  },
  {
   "cell_type": "code",
   "execution_count": null,
   "metadata": {},
   "outputs": [],
   "source": [
    "testred=np.array(redshifts)\n",
    "testdata=np.array(data)\n",
    "testmag=np.array(datamag)"
   ]
  },
  {
   "cell_type": "code",
   "execution_count": null,
   "metadata": {},
   "outputs": [],
   "source": [
    "testred"
   ]
  },
  {
   "cell_type": "code",
   "execution_count": null,
   "metadata": {},
   "outputs": [],
   "source": [
    "testdata"
   ]
  },
  {
   "cell_type": "code",
   "execution_count": null,
   "metadata": {},
   "outputs": [],
   "source": [
    "testmag"
   ]
  },
  {
   "cell_type": "code",
   "execution_count": null,
   "metadata": {},
   "outputs": [],
   "source": [
    "#18:23-18:49\n",
    "#normalization\n",
    "import math\n",
    "feature=3600\n",
    "\n",
    "def nom_flow(data):             \n",
    "    for i in range(data.shape[0]):\n",
    "        sum=0\n",
    "        for j in range(feature):\n",
    "            sum=sum+data[i,j]**2\n",
    "        for j in range(feature):\n",
    "            data[i,j]=data[i,j]/math.sqrt(sum)\n",
    "nom_flow(testdata)"
   ]
  },
  {
   "cell_type": "code",
   "execution_count": null,
   "metadata": {},
   "outputs": [],
   "source": [
    "testdata[0]"
   ]
  },
  {
   "cell_type": "code",
   "execution_count": null,
   "metadata": {},
   "outputs": [],
   "source": [
    "testdata.shape"
   ]
  },
  {
   "cell_type": "code",
   "execution_count": null,
   "metadata": {},
   "outputs": [],
   "source": [
    "testmag.shape"
   ]
  },
  {
   "cell_type": "code",
   "execution_count": null,
   "metadata": {},
   "outputs": [],
   "source": [
    "testred.shape"
   ]
  },
  {
   "cell_type": "code",
   "execution_count": null,
   "metadata": {},
   "outputs": [],
   "source": [
    "testdata[-1]"
   ]
  },
  {
   "cell_type": "code",
   "execution_count": null,
   "metadata": {},
   "outputs": [],
   "source": [
    "np.savetxt('data_norm.csv',testdata,delimiter=',',fmt = '%s')"
   ]
  },
  {
   "cell_type": "code",
   "execution_count": null,
   "metadata": {},
   "outputs": [],
   "source": [
    "testdata[-1]"
   ]
  },
  {
   "cell_type": "code",
   "execution_count": null,
   "metadata": {},
   "outputs": [],
   "source": []
  }
 ],
 "metadata": {
  "kernelspec": {
   "display_name": "Python 3",
   "language": "python",
   "name": "python3"
  },
  "language_info": {
   "codemirror_mode": {
    "name": "ipython",
    "version": 3
   },
   "file_extension": ".py",
   "mimetype": "text/x-python",
   "name": "python",
   "nbconvert_exporter": "python",
   "pygments_lexer": "ipython3",
   "version": "3.6.9"
  }
 },
 "nbformat": 4,
 "nbformat_minor": 2
}
